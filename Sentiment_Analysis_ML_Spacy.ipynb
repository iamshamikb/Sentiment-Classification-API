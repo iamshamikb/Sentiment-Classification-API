{
 "cells": [
  {
   "cell_type": "markdown",
   "metadata": {
    "id": "1lzV0iO801oT"
   },
   "source": [
    "# Imports"
   ]
  },
  {
   "cell_type": "code",
   "execution_count": null,
   "metadata": {
    "id": "TGBhnJ6Md8tb"
   },
   "outputs": [],
   "source": [
    "# !pip install pandas\n",
    "# !pip install re\n",
    "# !pip install string\n",
    "# !pip install seaborn\n",
    "# !pip install matplotlib\n",
    "# !pip install textblob\n",
    "# !pip install nltk\n",
    "# !pip install tqdm\n",
    "# !pip install spacy"
   ]
  },
  {
   "cell_type": "code",
   "execution_count": 1,
   "metadata": {
    "colab": {
     "base_uri": "https://localhost:8080/"
    },
    "id": "SDcvPrCQd8tm",
    "outputId": "c42620b6-c662-4705-d0b8-3f8533f295ae"
   },
   "outputs": [
    {
     "name": "stderr",
     "output_type": "stream",
     "text": [
      "/usr/local/lib/python3.6/dist-packages/nltk/twitter/__init__.py:20: UserWarning: The twython library has not been installed. Some functionality from the twitter package will not be available.\n",
      "  warnings.warn(\"The twython library has not been installed. \"\n"
     ]
    }
   ],
   "source": [
    "import pandas as pd\n",
    "import re\n",
    "import string\n",
    "import seaborn as sns\n",
    "from matplotlib import pyplot as plt\n",
    "from textblob import TextBlob\n",
    "import nltk\n",
    "# nltk.download('vader_lexicon')\n",
    "from nltk.sentiment.vader import SentimentIntensityAnalyzer\n",
    "from tqdm import tqdm\n",
    "from sklearn.pipeline import Pipeline\n",
    "from sklearn.model_selection import RandomizedSearchCV"
   ]
  },
  {
   "cell_type": "markdown",
   "metadata": {
    "id": "TFqFJvebd8tq"
   },
   "source": [
    "# Loading, Preprocessing and EDA"
   ]
  },
  {
   "cell_type": "markdown",
   "metadata": {
    "id": "8by3OGzid8tn"
   },
   "source": [
    "### Long Functions"
   ]
  },
  {
   "cell_type": "code",
   "execution_count": 2,
   "metadata": {
    "id": "Wx5V0TQvd8to"
   },
   "outputs": [],
   "source": [
    "contractions = {\n",
    "\"ain't\": \"am not / are not\",\n",
    "\"aren't\": \"are not / am not\",\n",
    "\"can't\": \"cannot\",\n",
    "\"can't've\": \"cannot have\",\n",
    "\"'cause\": \"because\",\n",
    "\"could've\": \"could have\",\n",
    "\"couldn't\": \"could not\",\n",
    "\"couldn't've\": \"could not have\",\n",
    "\"didn't\": \"did not\",\n",
    "\"doesn't\": \"does not\",\n",
    "\"don't\": \"do not\",\n",
    "\"hadn't\": \"had not\",\n",
    "\"hadn't've\": \"had not have\",\n",
    "\"hasn't\": \"has not\",\n",
    "\"haven't\": \"have not\",\n",
    "\"he'd\": \"he had / he would\",\n",
    "\"he'd've\": \"he would have\",\n",
    "\"he'll\": \"he shall / he will\",\n",
    "\"he'll've\": \"he shall have / he will have\",\n",
    "\"he's\": \"he has / he is\",\n",
    "\"how'd\": \"how did\",\n",
    "\"how'd'y\": \"how do you\",\n",
    "\"how'll\": \"how will\",\n",
    "\"how's\": \"how has / how is\",\n",
    "\"i'd\": \"I had / I would\",\n",
    "\"i'd've\": \"I would have\",\n",
    "\"i'll\": \"I shall / I will\",\n",
    "\"i'll've\": \"I shall have / I will have\",\n",
    "\"i'm\": \"I am\",\n",
    "\"i've\": \"I have\",\n",
    "\"isn't\": \"is not\",\n",
    "\"it'd\": \"it had / it would\",\n",
    "\"it'd've\": \"it would have\",\n",
    "\"it'll\": \"it shall / it will\",\n",
    "\"it'll've\": \"it shall have / it will have\",\n",
    "\"it's\": \"it has / it is\",\n",
    "\"let's\": \"let us\",\n",
    "\"ma'am\": \"madam\",\n",
    "\"mayn't\": \"may not\",\n",
    "\"might've\": \"might have\",\n",
    "\"mightn't\": \"might not\",\n",
    "\"mightn't've\": \"might not have\",\n",
    "\"must've\": \"must have\",\n",
    "\"mustn't\": \"must not\",\n",
    "\"mustn't've\": \"must not have\",\n",
    "\"needn't\": \"need not\",\n",
    "\"needn't've\": \"need not have\",\n",
    "\"o'clock\": \"of the clock\",\n",
    "\"oughtn't\": \"ought not\",\n",
    "\"oughtn't've\": \"ought not have\",\n",
    "\"shan't\": \"shall not\",\n",
    "\"sha'n't\": \"shall not\",\n",
    "\"shan't've\": \"shall not have\",\n",
    "\"she'd\": \"she had / she would\",\n",
    "\"she'd've\": \"she would have\",\n",
    "\"she'll\": \"she shall / she will\",\n",
    "\"she'll've\": \"she shall have / she will have\",\n",
    "\"she's\": \"she has / she is\",\n",
    "\"should've\": \"should have\",\n",
    "\"shouldn't\": \"should not\",\n",
    "\"shouldn't've\": \"should not have\",\n",
    "\"so've\": \"so have\",\n",
    "\"so's\": \"so as / so is\",\n",
    "\"that'd\": \"that would / that had\",\n",
    "\"that'd've\": \"that would have\",\n",
    "\"that's\": \"that has / that is\",\n",
    "\"there'd\": \"there had / there would\",\n",
    "\"there'd've\": \"there would have\",\n",
    "\"there's\": \"there has / there is\",\n",
    "\"they'd\": \"they had / they would\",\n",
    "\"they'd've\": \"they would have\",\n",
    "\"they'll\": \"they shall / they will\",\n",
    "\"they'll've\": \"they shall have / they will have\",\n",
    "\"they're\": \"they are\",\n",
    "\"they've\": \"they have\",\n",
    "\"to've\": \"to have\",\n",
    "\"wasn't\": \"was not\",\n",
    "\"we'd\": \"we had / we would\",\n",
    "\"we'd've\": \"we would have\",\n",
    "\"we'll\": \"we will\",\n",
    "\"we'll've\": \"we will have\",\n",
    "\"we're\": \"we are\",\n",
    "\"we've\": \"we have\",\n",
    "\"weren't\": \"were not\",\n",
    "\"what'll\": \"what shall / what will\",\n",
    "\"what'll've\": \"what shall have / what will have\",\n",
    "\"what're\": \"what are\",\n",
    "\"what's\": \"what has / what is\",\n",
    "\"what've\": \"what have\",\n",
    "\"when's\": \"when has / when is\",\n",
    "\"when've\": \"when have\",\n",
    "\"where'd\": \"where did\",\n",
    "\"where's\": \"where has / where is\",\n",
    "\"where've\": \"where have\",\n",
    "\"who'll\": \"who shall / who will\",\n",
    "\"who'll've\": \"who shall have / who will have\",\n",
    "\"who's\": \"who has / who is\",\n",
    "\"who've\": \"who have\",\n",
    "\"why's\": \"why has / why is\",\n",
    "\"why've\": \"why have\",\n",
    "\"will've\": \"will have\",\n",
    "\"won't\": \"will not\",\n",
    "\"won't've\": \"will not have\",\n",
    "\"would've\": \"would have\",\n",
    "\"wouldn't\": \"would not\",\n",
    "\"wouldn't've\": \"would not have\",\n",
    "\"y'all\": \"you all\",\n",
    "\"y'all'd\": \"you all would\",\n",
    "\"y'all'd've\": \"you all would have\",\n",
    "\"y'all're\": \"you all are\",\n",
    "\"y'all've\": \"you all have\",\n",
    "\"you'd\": \"you had / you would\",\n",
    "\"you'd've\": \"you would have\",\n",
    "\"you'll\": \"you shall / you will\",\n",
    "\"you'll've\": \"you shall have / you will have\",\n",
    "\"you're\": \"you are\",\n",
    "\"you've\": \"you have\"\n",
    "}"
   ]
  },
  {
   "cell_type": "code",
   "execution_count": 3,
   "metadata": {
    "id": "8iBIn5UQd8tp"
   },
   "outputs": [],
   "source": [
    "def decontract(raw_html):\n",
    "    for word in raw_html.split():\n",
    "        if word.lower() in contractions:\n",
    "            raw_html = raw_html.replace(word, contractions[word.lower()])\n",
    "    return raw_html"
   ]
  },
  {
   "cell_type": "markdown",
   "metadata": {
    "id": "cnXszqU_n-87"
   },
   "source": [
    "### Load and Clean"
   ]
  },
  {
   "cell_type": "code",
   "execution_count": null,
   "metadata": {
    "id": "2jH02Tded8tq"
   },
   "outputs": [],
   "source": [
    "df = pd.DataFrame()\n",
    "df['text'] = pd.read_csv('airline_sentiment_analysis.csv').drop('Unnamed: 0', axis=1).text\n",
    "df['sentiment'] = pd.read_csv('airline_sentiment_analysis.csv').drop('Unnamed: 0', axis=1).airline_sentiment\n",
    "# df"
   ]
  },
  {
   "cell_type": "code",
   "execution_count": null,
   "metadata": {
    "id": "9TLbbQ1Ir81J"
   },
   "outputs": [],
   "source": [
    "unique_texts = list(set(df.text))"
   ]
  },
  {
   "cell_type": "code",
   "execution_count": null,
   "metadata": {
    "id": "LRteUW6Yr81J"
   },
   "outputs": [],
   "source": [
    "df_new = pd.DataFrame(columns=['text', 'sentiment'])\n",
    "for i in unique_texts:\n",
    "    df_new = df_new.append(df[df.text == i].iloc[0])"
   ]
  },
  {
   "cell_type": "code",
   "execution_count": null,
   "metadata": {
    "id": "UZtdNIi8r81K",
    "outputId": "e756d9f9-f9ff-4fa9-ab1f-ab41a136306a"
   },
   "outputs": [
    {
     "data": {
      "text/plain": [
       "(11541, 11381, 11381, 11381)"
      ]
     },
     "execution_count": 82,
     "metadata": {
      "tags": []
     },
     "output_type": "execute_result"
    }
   ],
   "source": [
    "len(df.text), len(set(df.text)), len(df_new), len(df_new.text)"
   ]
  },
  {
   "cell_type": "code",
   "execution_count": null,
   "metadata": {
    "id": "wiOBO2pSr81M"
   },
   "outputs": [],
   "source": [
    "df = df_new.copy()"
   ]
  },
  {
   "cell_type": "code",
   "execution_count": null,
   "metadata": {
    "id": "BbgLUT-qd8tq",
    "outputId": "adcca2a1-9612-4a11-cd0e-ec98a05b826f"
   },
   "outputs": [
    {
     "data": {
      "text/plain": [
       "{'negative', 'positive'}"
      ]
     },
     "execution_count": 84,
     "metadata": {
      "tags": []
     },
     "output_type": "execute_result"
    }
   ],
   "source": [
    "set(df.sentiment)              # Sentiment classes - positive and negetive only no neutral category."
   ]
  },
  {
   "cell_type": "code",
   "execution_count": null,
   "metadata": {
    "id": "zBbKT-JId8ts",
    "scrolled": true
   },
   "outputs": [],
   "source": [
    "# [print(i) for i in df.text]"
   ]
  },
  {
   "cell_type": "code",
   "execution_count": null,
   "metadata": {
    "id": "bk4-JNXdd8tt"
   },
   "outputs": [],
   "source": [
    "def simple_preprocessing_function(text):\n",
    "    text = re.sub('@\\S*\\s','',text+str(' '))      # Removing @VirginAmerica and likes of that\n",
    "    text = re.sub('http:\\S*\\s','',text+str(' '))  # Remove hyperlinks\n",
    "    text = decontract(text)                       # Decontractions\n",
    "    text = re.sub(\"[^-9A-Za-z ]\", \" \" , text)     # Remove punctuations and special charaters\n",
    "    text = re.sub(' +', ' ', text)                # Remove extra spaces\n",
    "    text = \"\".join([i.lower() for i in text if i not in string.punctuation])  # To lower case\n",
    "    return text\n",
    "\n",
    "prep_text = []\n",
    "for i in df.text:\n",
    "    prep_text.append(simple_preprocessing_function(i))\n",
    "\n",
    "df['text'] = prep_text\n",
    "\n",
    "df['sentiment'] = list((df.sentiment=='positive')*1)     # This is simple binary categorical variable to no need of encoding\n",
    "                                                        # 1 for positive, 0 for negetive"
   ]
  },
  {
   "cell_type": "markdown",
   "metadata": {
    "id": "GuF_-oezd8tv"
   },
   "source": [
    "Now we want to see how much similar our labels are with textblob etc sentiment analyzers."
   ]
  },
  {
   "cell_type": "markdown",
   "metadata": {
    "id": "4SHhqKlnoCgI"
   },
   "source": [
    "### Ratings by TextBlob and NLTK"
   ]
  },
  {
   "cell_type": "code",
   "execution_count": null,
   "metadata": {
    "id": "Yf3qcXDSd8tw"
   },
   "outputs": [],
   "source": [
    "########## TextBlob"
   ]
  },
  {
   "cell_type": "code",
   "execution_count": null,
   "metadata": {
    "id": "o6Tu5bKnd8tx",
    "outputId": "450d7d98-7de6-42fa-d373-28d50a2eb3bf"
   },
   "outputs": [
    {
     "name": "stderr",
     "output_type": "stream",
     "text": [
      "/usr/local/lib/python3.6/dist-packages/seaborn/_decorators.py:43: FutureWarning: Pass the following variable as a keyword arg: x. From version 0.12, the only valid positional argument will be `data`, and passing other arguments without an explicit keyword will result in an error or misinterpretation.\n",
      "  FutureWarning\n",
      "/usr/local/lib/python3.6/dist-packages/seaborn/_decorators.py:43: FutureWarning: Pass the following variable as a keyword arg: x. From version 0.12, the only valid positional argument will be `data`, and passing other arguments without an explicit keyword will result in an error or misinterpretation.\n",
      "  FutureWarning\n"
     ]
    },
    {
     "data": {
      "image/png": "[encoded data removed]",
      "text/plain": [
       "<Figure size 1080x360 with 2 Axes>"
      ]
     },
     "metadata": {
      "needs_background": "light",
      "tags": []
     },
     "output_type": "display_data"
    }
   ],
   "source": [
    "sentiment=[]\n",
    "sent_text=[]\n",
    "for i in df.text:\n",
    "    sentiment.append(TextBlob(i).sentiment.polarity)\n",
    "    if TextBlob(i).sentiment.polarity > 0:\n",
    "           sent_text.append('positive')\n",
    "#     elif TextBlob(i).sentiment.polarity == 0:\n",
    "#            sent_text.append('Neutral')\n",
    "    else:\n",
    "           sent_text.append('Negetive')\n",
    "            \n",
    "fig, ax = plt.subplots(figsize=(15,5), nrows = 1, ncols=2)\n",
    "sns.countplot(sent_text, ax=ax[0])\n",
    "sns.countplot(df.sentiment, ax=ax[1])\n",
    "ax[1].set_title('Classification given in our data')\n",
    "ax[1].legend(['Negetive', 'Positive'])\n",
    "ax[0].set_title('Classification by TextBlob')\n",
    "plt.show()"
   ]
  },
  {
   "cell_type": "code",
   "execution_count": null,
   "metadata": {
    "id": "TG5rskHed8tz"
   },
   "outputs": [],
   "source": [
    "############ NLTK VADER"
   ]
  },
  {
   "cell_type": "code",
   "execution_count": null,
   "metadata": {
    "id": "TGRM5-hrd8t0",
    "outputId": "25acdbd1-2613-49e5-a90a-1671d9da8775"
   },
   "outputs": [
    {
     "name": "stderr",
     "output_type": "stream",
     "text": [
      "100%|██████████| 11381/11381 [01:14<00:00, 152.36it/s]\n"
     ]
    }
   ],
   "source": [
    "sentiment=[]\n",
    "\n",
    "for i in tqdm(df.text):\n",
    "    sid = SentimentIntensityAnalyzer()\n",
    "    pol = sid.polarity_scores(i)\n",
    "    if pol['pos']>=0.2:                   # pos kept at 0.2\n",
    "        sentiment.append('Positive')\n",
    "    else:\n",
    "        sentiment.append('Negetive')"
   ]
  },
  {
   "cell_type": "code",
   "execution_count": null,
   "metadata": {
    "id": "-D79yN9sd8t2",
    "outputId": "7a0e2b4d-63ea-4944-beb0-3d531b62f783"
   },
   "outputs": [
    {
     "name": "stderr",
     "output_type": "stream",
     "text": [
      "/usr/local/lib/python3.6/dist-packages/seaborn/_decorators.py:43: FutureWarning: Pass the following variable as a keyword arg: x. From version 0.12, the only valid positional argument will be `data`, and passing other arguments without an explicit keyword will result in an error or misinterpretation.\n",
      "  FutureWarning\n",
      "/usr/local/lib/python3.6/dist-packages/seaborn/_decorators.py:43: FutureWarning: Pass the following variable as a keyword arg: x. From version 0.12, the only valid positional argument will be `data`, and passing other arguments without an explicit keyword will result in an error or misinterpretation.\n",
      "  FutureWarning\n"
     ]
    },
    {
     "data": {
      "image/png": "[encoded data removed]",
      "text/plain": [
       "<Figure size 1080x360 with 2 Axes>"
      ]
     },
     "metadata": {
      "needs_background": "light",
      "tags": []
     },
     "output_type": "display_data"
    }
   ],
   "source": [
    "fig, ax = plt.subplots(figsize=(15,5), nrows = 1, ncols=2)\n",
    "sns.countplot(sentiment, ax=ax[0])\n",
    "sns.countplot(df.sentiment, ax=ax[1])\n",
    "ax[1].set_title('Classification given in our data')\n",
    "ax[1].legend(['Negetive', 'Positive'])\n",
    "ax[0].set_title('Classification by NLTK')\n",
    "plt.show()"
   ]
  },
  {
   "cell_type": "markdown",
   "metadata": {
    "id": "ooQS1gUqd8uK"
   },
   "source": [
    "# ML Models"
   ]
  },
  {
   "cell_type": "markdown",
   "metadata": {
    "id": "qqUQdiu_mnAF"
   },
   "source": [
    "## Imports"
   ]
  },
  {
   "cell_type": "code",
   "execution_count": null,
   "metadata": {
    "id": "8HhVTiQ7fK-C"
   },
   "outputs": [],
   "source": [
    "# !python -m spacy download en_core_web_lg\n",
    "# !python -m spacy link en_core_web_lg en\n",
    "# !pip install xgboost"
   ]
  },
  {
   "cell_type": "code",
   "execution_count": null,
   "metadata": {
    "id": "QicgvoHckd5S"
   },
   "outputs": [],
   "source": [
    "import string\n",
    "import stringprep\n",
    "from spacy.lang.en import English\n",
    "from sklearn import metrics\n",
    "import spacy\n",
    "from sklearn.feature_extraction.text import CountVectorizer, TfidfVectorizer \n",
    "import xgboost as xgb\n",
    "from scipy import stats \n",
    "from sklearn.model_selection import KFold\n",
    "from IPython.display import clear_output\n",
    "from sklearn.model_selection import RandomizedSearchCV"
   ]
  },
  {
   "cell_type": "code",
   "execution_count": null,
   "metadata": {
    "id": "JEYcb2eypPlP"
   },
   "outputs": [],
   "source": [
    "punctuations = string.punctuation\n",
    "nlp = spacy.load('en')\n",
    "stop_words = spacy.lang.en.stop_words.STOP_WORDS\n",
    "parser = English()\n",
    "def spacy_tokenizer(sentence):\n",
    "    mytokens = parser(sentence)\n",
    "    mytokens = [ word.lemma_.lower().strip() if word.lemma_ != \"-PRON-\" else word.lower_ for word in mytokens ]\n",
    "    mytokens = [ word for word in mytokens if word not in stop_words and word not in punctuations ]\n",
    "    return mytokens\n",
    "\n",
    "\n",
    "# df.iloc[0:9500].to_csv('Train.csv', index=False)\n",
    "# df.iloc[9500:].to_csv('Test.csv', index=False)\n",
    "Train_part = pd.read_csv('Train.csv') \n",
    "Test_part = pd.read_csv('Test.csv')\n",
    "X_train, X_test, y_train, y_test = Train_part['text'], Test_part['text'], Train_part['sentiment'], Test_part['sentiment']"
   ]
  },
  {
   "cell_type": "markdown",
   "metadata": {
    "id": "vsnilN-Jf1zR"
   },
   "source": [
    "## XGBoost with TFIDF"
   ]
  },
  {
   "cell_type": "code",
   "execution_count": null,
   "metadata": {
    "id": "iKf6WLLBd8uR"
   },
   "outputs": [],
   "source": [
    "tfidf_vector = TfidfVectorizer(tokenizer = spacy_tokenizer)\n",
    "\n",
    "X_train_ = tfidf_vector.fit_transform(X_train)\n",
    "X_test_ = tfidf_vector.transform(X_test)"
   ]
  },
  {
   "cell_type": "code",
   "execution_count": null,
   "metadata": {
    "colab": {
     "base_uri": "https://localhost:8080/"
    },
    "id": "ggsvgPobjnVy",
    "outputId": "f8fe9234-1458-4210-a741-3c8108cbfd6a"
   },
   "outputs": [
    {
     "name": "stdout",
     "output_type": "stream",
     "text": [
      "XGBClassifier(base_score=0.5, booster='gbtree', colsample_bylevel=1,\n",
      "              colsample_bynode=1, colsample_bytree=0.5556807181497329, gamma=0,\n",
      "              gpu_id=-1, importance_type='gain', interaction_constraints='',\n",
      "              learning_rate=0.4248798763231012, max_delta_step=0, max_depth=6,\n",
      "              min_child_weight=3, missing=nan, monotone_constraints='()',\n",
      "              n_estimators=276, n_jobs=8, num_parallel_tree=1, random_state=0,\n",
      "              reg_alpha=0, reg_lambda=1, scale_pos_weight=1,\n",
      "              subsample=0.8196139684354817, tree_method='exact',\n",
      "              validate_parameters=1, verbosity=None)\n",
      "CPU times: user 12.8 s, sys: 0 ns, total: 12.8 s\n",
      "Wall time: 19min 55s\n"
     ]
    }
   ],
   "source": [
    "%%time\n",
    "clf_xgb = xgb.XGBClassifier(objective = 'binary:logistic')\n",
    "param_dist = {'n_estimators': stats.randint(150, 1000),\n",
    "              'learning_rate': stats.uniform(0.01, 0.6),\n",
    "              'subsample': stats.uniform(0.3, 0.65),\n",
    "              'max_depth': [3, 4, 5, 6, 7, 8, 9],\n",
    "              'colsample_bytree': stats.uniform(0.5, 0.9),\n",
    "              'min_child_weight': [1, 2, 3, 4]\n",
    "             }\n",
    "\n",
    "numFolds = 5\n",
    "kfold_5 = KFold(shuffle = True, n_splits = numFolds)\n",
    "\n",
    "clf = RandomizedSearchCV(clf_xgb, \n",
    "                         param_distributions = param_dist,\n",
    "                         cv = kfold_5,  \n",
    "                         n_iter = 5,  \n",
    "                         scoring = 'roc_auc', \n",
    "                         error_score = 0, \n",
    "                         verbose = 3, \n",
    "                         n_jobs = -1)\n",
    "clf.fit(X_train_, y_train)\n",
    "\n",
    "clear_output()\n",
    "\n",
    "print(clf.best_estimator_)\n",
    "\n",
    "# XGBClassifier(base_score=0.5, booster='gbtree', colsample_bylevel=1,\n",
    "#               colsample_bynode=1, colsample_bytree=0.5556807181497329, gamma=0,\n",
    "#               gpu_id=-1, importance_type='gain', interaction_constraints='',\n",
    "#               learning_rate=0.4248798763231012, max_delta_step=0, max_depth=6,\n",
    "#               min_child_weight=3, missing=nan, monotone_constraints='()',\n",
    "#               n_estimators=276, n_jobs=8, num_parallel_tree=1, random_state=0,\n",
    "#               reg_alpha=0, reg_lambda=1, scale_pos_weight=1,\n",
    "#               subsample=0.8196139684354817, tree_method='exact',\n",
    "#               validate_parameters=1, verbosity=None)\n",
    "# CPU times: user 12.8 s, sys: 0 ns, total: 12.8 s\n",
    "# Wall time: 19min 55s"
   ]
  },
  {
   "cell_type": "code",
   "execution_count": null,
   "metadata": {
    "colab": {
     "base_uri": "https://localhost:8080/"
    },
    "id": "77aqBIujl1g_",
    "outputId": "58c142bc-9409-4b2e-84e7-bc75881f84d1"
   },
   "outputs": [
    {
     "name": "stdout",
     "output_type": "stream",
     "text": [
      "Accuracy: 0.87 Precision: 0.76 Recall: 0.57\n"
     ]
    }
   ],
   "source": [
    "# Fitting the best model\n",
    "\n",
    "# clf.fit(X_train_, y_train)\n",
    "\n",
    "predicted = clf.predict(X_test_)\n",
    "clear_output()\n",
    "print(\"Accuracy:\",round(metrics.accuracy_score(y_test, predicted), 2) \\\n",
    ",\"Precision:\",round(metrics.precision_score(y_test, predicted), 2) \\\n",
    ",\"Recall:\",round(metrics.recall_score(y_test, predicted), 2))\n",
    "\n",
    "# Accuracy: 0.87 Precision: 0.76 Recall: 0.57"
   ]
  },
  {
   "cell_type": "markdown",
   "metadata": {
    "id": "h8nNAnLNmZwH"
   },
   "source": [
    "## XGBoost with BOW"
   ]
  },
  {
   "cell_type": "code",
   "execution_count": null,
   "metadata": {
    "id": "23cT3Gj1mdhU"
   },
   "outputs": [],
   "source": [
    "bow_vector = CountVectorizer(tokenizer = spacy_tokenizer, ngram_range=(1,1))\n",
    "\n",
    "X_train_ = bow_vector.fit_transform(X_train)\n",
    "X_test_ = bow_vector.transform(X_test)"
   ]
  },
  {
   "cell_type": "code",
   "execution_count": null,
   "metadata": {
    "colab": {
     "base_uri": "https://localhost:8080/"
    },
    "id": "2eKA_VZ2m0vc",
    "outputId": "5fce6f6e-408c-4d30-c5fb-e104380ed570"
   },
   "outputs": [
    {
     "name": "stdout",
     "output_type": "stream",
     "text": [
      "XGBClassifier(base_score=0.5, booster='gbtree', colsample_bylevel=1,\n",
      "              colsample_bynode=1, colsample_bytree=0.5108143676490189, gamma=0,\n",
      "              gpu_id=-1, importance_type='gain', interaction_constraints='',\n",
      "              learning_rate=0.015217517715819088, max_delta_step=0, max_depth=6,\n",
      "              min_child_weight=1, missing=nan, monotone_constraints='()',\n",
      "              n_estimators=628, n_jobs=8, num_parallel_tree=1, random_state=0,\n",
      "              reg_alpha=0, reg_lambda=1, scale_pos_weight=1,\n",
      "              subsample=0.8878847634295339, tree_method='exact',\n",
      "              validate_parameters=1, verbosity=None)\n",
      "CPU times: user 22.4 s, sys: 0 ns, total: 22.4 s\n",
      "Wall time: 14min 6s\n"
     ]
    }
   ],
   "source": [
    "%%time\n",
    "clf_xgb = xgb.XGBClassifier(objective = 'binary:logistic')\n",
    "param_dist = {'n_estimators': stats.randint(150, 1000),\n",
    "              'learning_rate': stats.uniform(0.01, 0.6),\n",
    "              'subsample': stats.uniform(0.3, 0.65),\n",
    "              'max_depth': [3, 4, 5, 6, 7, 8, 9],\n",
    "              'colsample_bytree': stats.uniform(0.5, 0.9),\n",
    "              'min_child_weight': [1, 2, 3, 4]\n",
    "             }\n",
    "\n",
    "numFolds = 5\n",
    "kfold_5 = KFold(shuffle = True, n_splits = numFolds)\n",
    "\n",
    "clf = RandomizedSearchCV(clf_xgb, \n",
    "                         param_distributions = param_dist,\n",
    "                         cv = kfold_5,  \n",
    "                         n_iter = 5, \n",
    "                         scoring = 'roc_auc', \n",
    "                         error_score = 0, \n",
    "                         verbose = 3, \n",
    "                         n_jobs = -1)\n",
    "clf.fit(X_train_, y_train)\n",
    "\n",
    "clear_output()\n",
    "\n",
    "print(clf.best_estimator_)\n",
    "\n",
    "# XGBClassifier(base_score=0.5, booster='gbtree', colsample_bylevel=1,\n",
    "#               colsample_bynode=1, colsample_bytree=0.5108143676490189, gamma=0,\n",
    "#               gpu_id=-1, importance_type='gain', interaction_constraints='',\n",
    "#               learning_rate=0.015217517715819088, max_delta_step=0, max_depth=6,\n",
    "#               min_child_weight=1, missing=nan, monotone_constraints='()',\n",
    "#               n_estimators=628, n_jobs=8, num_parallel_tree=1, random_state=0,\n",
    "#               reg_alpha=0, reg_lambda=1, scale_pos_weight=1,\n",
    "#               subsample=0.8878847634295339, tree_method='exact',\n",
    "#               validate_parameters=1, verbosity=None)\n",
    "# CPU times: user 22.4 s, sys: 0 ns, total: 22.4 s\n",
    "# Wall time: 14min 6s"
   ]
  },
  {
   "cell_type": "code",
   "execution_count": null,
   "metadata": {
    "colab": {
     "base_uri": "https://localhost:8080/"
    },
    "id": "wWJdf_fInD_t",
    "outputId": "cd00143a-466e-4cd3-a956-e869dd772caf"
   },
   "outputs": [
    {
     "name": "stdout",
     "output_type": "stream",
     "text": [
      "Accuracy: 0.89 Precision: 0.84 Recall: 0.58\n"
     ]
    }
   ],
   "source": [
    "# Fitting the best model\n",
    "\n",
    "# clf.fit(X_train_, y_train)\n",
    "\n",
    "predicted = clf.predict(X_test_)\n",
    "clear_output()\n",
    "print(\"Accuracy:\",round(metrics.accuracy_score(y_test, predicted), 2) \\\n",
    ",\"Precision:\",round(metrics.precision_score(y_test, predicted), 2) \\\n",
    ",\"Recall:\",round(metrics.recall_score(y_test, predicted), 2))\n",
    "\n",
    "# Accuracy: 0.89 Precision: 0.84 Recall: 0.58"
   ]
  },
  {
   "cell_type": "markdown",
   "metadata": {
    "id": "Icv9gAflo02k"
   },
   "source": [
    "## Support Vector Classifier"
   ]
  },
  {
   "cell_type": "code",
   "execution_count": null,
   "metadata": {
    "id": "4t9QQpFprXsv"
   },
   "outputs": [],
   "source": [
    "from sklearn.svm import SVC"
   ]
  },
  {
   "cell_type": "markdown",
   "metadata": {
    "id": "jZyzclrPspC5"
   },
   "source": [
    "### TFIDF"
   ]
  },
  {
   "cell_type": "code",
   "execution_count": null,
   "metadata": {
    "id": "CP9DRNy7r_6u"
   },
   "outputs": [],
   "source": [
    "tfidf_vector = TfidfVectorizer(tokenizer = spacy_tokenizer)\n",
    "\n",
    "X_train_ = tfidf_vector.fit_transform(X_train)\n",
    "X_test_ = tfidf_vector.transform(X_test)"
   ]
  },
  {
   "cell_type": "code",
   "execution_count": null,
   "metadata": {
    "colab": {
     "base_uri": "https://localhost:8080/"
    },
    "id": "rZSK6AnUsDFy",
    "outputId": "e9b633ef-96f1-4c44-91cd-c8901fa92acf"
   },
   "outputs": [
    {
     "data": {
      "text/plain": [
       "SVC(C=99, gamma=0.4748831270323305)"
      ]
     },
     "execution_count": 103,
     "metadata": {
      "tags": []
     },
     "output_type": "execute_result"
    }
   ],
   "source": [
    "clf = SVC()\n",
    "param_dist = {'C': stats.randint(1,1000), \n",
    "               'gamma': stats.uniform(0.0001,1), \n",
    "               'kernel': ['linear', 'rbf']\n",
    "             }\n",
    "\n",
    "numFolds = 5\n",
    "kfold_5 = KFold(shuffle = True, n_splits = numFolds)\n",
    "\n",
    "clf = RandomizedSearchCV(clf, \n",
    "                         param_distributions = param_dist,\n",
    "                         cv = kfold_5,  \n",
    "                         n_iter = 5, \n",
    "                         scoring = 'roc_auc', \n",
    "                         error_score = 0, \n",
    "                         verbose = 3, \n",
    "                         n_jobs = -1)\n",
    "clf.fit(X_train_, y_train)\n",
    "\n",
    "clear_output()\n",
    "\n",
    "clf.best_estimator_\n",
    "\n",
    "# SVC(C=99, gamma=0.4748831270323305)"
   ]
  },
  {
   "cell_type": "code",
   "execution_count": null,
   "metadata": {
    "colab": {
     "base_uri": "https://localhost:8080/"
    },
    "id": "-HcbKdeXsWHT",
    "outputId": "585d6708-0eb4-4ced-bed6-c82d0022649e"
   },
   "outputs": [
    {
     "name": "stdout",
     "output_type": "stream",
     "text": [
      "Accuracy: 0.91 Precision: 0.83 Recall: 0.71\n"
     ]
    }
   ],
   "source": [
    "# Fitting the best model\n",
    "\n",
    "# clf.fit(X_train_, y_train)\n",
    "\n",
    "predicted = clf.predict(X_test_)\n",
    "clear_output()\n",
    "print(\"Accuracy:\",round(metrics.accuracy_score(y_test, predicted), 2) \\\n",
    ",\"Precision:\",round(metrics.precision_score(y_test, predicted), 2) \\\n",
    ",\"Recall:\",round(metrics.recall_score(y_test, predicted), 2))\n",
    "\n",
    "# Accuracy: 0.91 Precision: 0.83 Recall: 0.71"
   ]
  },
  {
   "cell_type": "markdown",
   "metadata": {
    "id": "RNsiuKdUssLF"
   },
   "source": [
    "### BOW"
   ]
  },
  {
   "cell_type": "code",
   "execution_count": null,
   "metadata": {
    "id": "7pRX_tLNs5-o"
   },
   "outputs": [],
   "source": [
    "bow_vector = CountVectorizer(tokenizer = spacy_tokenizer, ngram_range=(1,1))\n",
    "X_train_ = bow_vector.fit_transform(X_train)\n",
    "X_test_ = bow_vector.transform(X_test)"
   ]
  },
  {
   "cell_type": "code",
   "execution_count": null,
   "metadata": {
    "colab": {
     "base_uri": "https://localhost:8080/"
    },
    "id": "Ggxu_DfvsriL",
    "outputId": "a8d0f5e4-5c7f-40d4-d533-0d18efeb46b7"
   },
   "outputs": [
    {
     "data": {
      "text/plain": [
       "SVC(C=40, gamma=0.017879516682235874)"
      ]
     },
     "execution_count": 106,
     "metadata": {
      "tags": []
     },
     "output_type": "execute_result"
    }
   ],
   "source": [
    "clf = SVC()\n",
    "param_dist = {'C': stats.randint(1,1000), \n",
    "               'gamma': stats.uniform(0.0001,1), \n",
    "               'kernel': ['linear', 'rbf']\n",
    "             }\n",
    "\n",
    "numFolds = 5\n",
    "kfold_5 = KFold(shuffle = True, n_splits = numFolds)\n",
    "\n",
    "clf = RandomizedSearchCV(clf, \n",
    "                         param_distributions = param_dist,\n",
    "                         cv = kfold_5,  \n",
    "                         n_iter = 5, \n",
    "                         scoring = 'roc_auc', \n",
    "                         error_score = 0, \n",
    "                         verbose = 3, \n",
    "                         n_jobs = -1)\n",
    "clf.fit(X_train_, y_train)\n",
    "\n",
    "clear_output()\n",
    "\n",
    "clf.best_estimator_\n",
    "\n",
    "# SVC(C=40, gamma=0.017879516682235874)"
   ]
  },
  {
   "cell_type": "code",
   "execution_count": null,
   "metadata": {
    "colab": {
     "base_uri": "https://localhost:8080/"
    },
    "id": "Elm6cBFPsxX5",
    "outputId": "933de742-a8bf-4452-de93-c576faf324d6"
   },
   "outputs": [
    {
     "name": "stdout",
     "output_type": "stream",
     "text": [
      "Accuracy: 0.9 Precision: 0.78 Recall: 0.74\n"
     ]
    }
   ],
   "source": [
    "# Fitting the best model\n",
    "\n",
    "# clf.fit(X_train_, y_train)\n",
    "\n",
    "predicted = clf.predict(X_test_)\n",
    "clear_output()\n",
    "print(\"Accuracy:\",round(metrics.accuracy_score(y_test, predicted), 2) \\\n",
    ",\"Precision:\",round(metrics.precision_score(y_test, predicted), 2) \\\n",
    ",\"Recall:\",round(metrics.recall_score(y_test, predicted), 2))\n",
    "\n",
    "# Accuracy: 0.9 Precision: 0.78 Recall: 0.74"
   ]
  },
  {
   "cell_type": "markdown",
   "metadata": {
    "id": "p33gfV4GshIv"
   },
   "source": [
    "### Without Hyperparameter Tuning"
   ]
  },
  {
   "cell_type": "code",
   "execution_count": null,
   "metadata": {
    "id": "GW0fAccgpp3r"
   },
   "outputs": [],
   "source": [
    "# # TFIDF\n",
    "# tfidf_vector = TfidfVectorizer(tokenizer = spacy_tokenizer)\n",
    "\n",
    "# X_train_ = tfidf_vector.fit_transform(X_train)\n",
    "# X_test_ = tfidf_vector.transform(X_test)\n",
    "\n",
    "# clf = SVC()\n",
    "# clf.fit(X_train_, y_train)\n",
    "# predicted = clf.predict(X_test_)\n",
    "\n",
    "# clear_output()\n",
    "# print(\"Accuracy:\",round(metrics.accuracy_score(y_test, predicted), 2) \\\n",
    "# ,\"Precision:\",round(metrics.precision_score(y_test, predicted), 2) \\\n",
    "# ,\"Recall:\",round(metrics.recall_score(y_test, predicted), 2))"
   ]
  },
  {
   "cell_type": "code",
   "execution_count": null,
   "metadata": {
    "id": "tH3zAUwhqZHU"
   },
   "outputs": [],
   "source": [
    "# # BOW\n",
    "# bow_vector = CountVectorizer(tokenizer = spacy_tokenizer)\n",
    "\n",
    "# X_train_ = bow_vector.fit_transform(X_train)\n",
    "# X_test_ = bow_vector.transform(X_test)\n",
    "\n",
    "# clf = SVC()\n",
    "# clf.fit(X_train_, y_train)\n",
    "# predicted = clf.predict(X_test_)\n",
    "\n",
    "# clear_output()\n",
    "# print(\"Accuracy:\",round(metrics.accuracy_score(y_test, predicted), 2) \\\n",
    "# ,\"Precision:\",round(metrics.precision_score(y_test, predicted), 2) \\\n",
    "# ,\"Recall:\",round(metrics.recall_score(y_test, predicted), 2))"
   ]
  },
  {
   "cell_type": "markdown",
   "metadata": {
    "id": "Nwcp7KYno5kd"
   },
   "source": [
    "## Multinomial Naive Bayes"
   ]
  },
  {
   "cell_type": "code",
   "execution_count": null,
   "metadata": {
    "id": "Y_unq3DcrLwx"
   },
   "outputs": [],
   "source": [
    "from sklearn.naive_bayes import MultinomialNB"
   ]
  },
  {
   "cell_type": "markdown",
   "metadata": {
    "id": "vmZCMfOWte1Z"
   },
   "source": [
    "### TFIDF"
   ]
  },
  {
   "cell_type": "code",
   "execution_count": null,
   "metadata": {
    "id": "tkh9W9g6tirp"
   },
   "outputs": [],
   "source": [
    "tfidf_vector = TfidfVectorizer(tokenizer = spacy_tokenizer)\n",
    "\n",
    "X_train_ = tfidf_vector.fit_transform(X_train)\n",
    "X_test_ = tfidf_vector.transform(X_test)"
   ]
  },
  {
   "cell_type": "code",
   "execution_count": null,
   "metadata": {
    "colab": {
     "base_uri": "https://localhost:8080/"
    },
    "id": "vAjNqWdUtq-6",
    "outputId": "cfceae35-1f34-42e0-fcb6-7481db93bbc5"
   },
   "outputs": [
    {
     "name": "stdout",
     "output_type": "stream",
     "text": [
      "MultinomialNB(alpha=0.6448689860767197, fit_prior=False)\n",
      "CPU times: user 121 ms, sys: 0 ns, total: 121 ms\n",
      "Wall time: 177 ms\n"
     ]
    }
   ],
   "source": [
    "%%time\n",
    "clf = MultinomialNB()\n",
    "param_dist = {'alpha': stats.uniform(0.0, 1.0),\n",
    "              'fit_prior':[True, False]\n",
    "             }\n",
    "\n",
    "numFolds = 5\n",
    "kfold_5 = KFold(shuffle = True, n_splits = numFolds)\n",
    "\n",
    "clf = RandomizedSearchCV(clf, \n",
    "                         param_distributions = param_dist,\n",
    "                         cv = kfold_5,  \n",
    "                         n_iter = 5, \n",
    "                         scoring = 'roc_auc', \n",
    "                         error_score = 0, \n",
    "                         verbose = 3, \n",
    "                         n_jobs = -1)\n",
    "clf.fit(X_train_, y_train)\n",
    "\n",
    "clear_output()\n",
    "\n",
    "print(clf.best_estimator_)\n",
    "\n",
    "# MultinomialNB(alpha=0.6448689860767197, fit_prior=False)\n",
    "# CPU times: user 121 ms, sys: 0 ns, total: 121 ms\n",
    "# Wall time: 177 ms"
   ]
  },
  {
   "cell_type": "code",
   "execution_count": null,
   "metadata": {
    "colab": {
     "base_uri": "https://localhost:8080/"
    },
    "id": "wxXPRhQ5tu4S",
    "outputId": "1623f4f5-8e39-4b97-9578-ba2ac74bc467"
   },
   "outputs": [
    {
     "name": "stdout",
     "output_type": "stream",
     "text": [
      "Accuracy: 0.89 Precision: 0.76 Recall: 0.71\n"
     ]
    }
   ],
   "source": [
    "# Fitting the best model\n",
    "\n",
    "# clf.fit(X_train_, y_train)\n",
    "\n",
    "predicted = clf.predict(X_test_)\n",
    "clear_output()\n",
    "print(\"Accuracy:\",round(metrics.accuracy_score(y_test, predicted), 2) \\\n",
    ",\"Precision:\",round(metrics.precision_score(y_test, predicted), 2) \\\n",
    ",\"Recall:\",round(metrics.recall_score(y_test, predicted), 2))\n",
    "\n",
    "# Accuracy: 0.89 Precision: 0.76 Recall: 0.71"
   ]
  },
  {
   "cell_type": "markdown",
   "metadata": {
    "id": "57U7f-g0thK6"
   },
   "source": [
    "###BOW"
   ]
  },
  {
   "cell_type": "code",
   "execution_count": null,
   "metadata": {
    "id": "tqKtyVcvtjJJ"
   },
   "outputs": [],
   "source": [
    "bow_vector = CountVectorizer(tokenizer = spacy_tokenizer, ngram_range=(1,1))\n",
    "X_train_ = bow_vector.fit_transform(X_train)\n",
    "X_test_ = bow_vector.transform(X_test)"
   ]
  },
  {
   "cell_type": "code",
   "execution_count": null,
   "metadata": {
    "colab": {
     "base_uri": "https://localhost:8080/"
    },
    "id": "rAYEy_zetr0_",
    "outputId": "3ab3e9b8-9402-4f55-b97a-d490ebbe9f2a"
   },
   "outputs": [
    {
     "name": "stdout",
     "output_type": "stream",
     "text": [
      "MultinomialNB(alpha=0.5178620218594471, fit_prior=False)\n",
      "CPU times: user 112 ms, sys: 0 ns, total: 112 ms\n",
      "Wall time: 172 ms\n"
     ]
    }
   ],
   "source": [
    "%%time\n",
    "clf = MultinomialNB()\n",
    "param_dist = {'alpha': stats.uniform(0.0, 1.0),\n",
    "              'fit_prior':[True, False]\n",
    "             }\n",
    "\n",
    "numFolds = 5\n",
    "kfold_5 = KFold(shuffle = True, n_splits = numFolds)\n",
    "\n",
    "clf = RandomizedSearchCV(clf, \n",
    "                         param_distributions = param_dist,\n",
    "                         cv = kfold_5,  \n",
    "                         n_iter = 5, \n",
    "                         scoring = 'roc_auc', \n",
    "                         error_score = 0, \n",
    "                         verbose = 3, \n",
    "                         n_jobs = -1)\n",
    "clf.fit(X_train_, y_train)\n",
    "\n",
    "clear_output()\n",
    "\n",
    "print(clf.best_estimator_)\n",
    "\n",
    "# MultinomialNB(alpha=0.5178620218594471, fit_prior=False)\n",
    "# CPU times: user 112 ms, sys: 0 ns, total: 112 ms\n",
    "# Wall time: 172 ms"
   ]
  },
  {
   "cell_type": "code",
   "execution_count": null,
   "metadata": {
    "colab": {
     "base_uri": "https://localhost:8080/"
    },
    "id": "H7tIUeZStuKg",
    "outputId": "e4282f54-9f4f-4323-dc72-28f43a3abf44"
   },
   "outputs": [
    {
     "name": "stdout",
     "output_type": "stream",
     "text": [
      "Accuracy: 0.89 Precision: 0.7 Recall: 0.81\n"
     ]
    }
   ],
   "source": [
    "# Fitting the best model\n",
    "\n",
    "# clf.fit(X_train_, y_train)\n",
    "\n",
    "predicted = clf.predict(X_test_)\n",
    "clear_output()\n",
    "print(\"Accuracy:\",round(metrics.accuracy_score(y_test, predicted), 2) \\\n",
    ",\"Precision:\",round(metrics.precision_score(y_test, predicted), 2) \\\n",
    ",\"Recall:\",round(metrics.recall_score(y_test, predicted), 2))\n",
    "\n",
    "# Accuracy: 0.89 Precision: 0.7 Recall: 0.81"
   ]
  },
  {
   "cell_type": "markdown",
   "metadata": {
    "id": "4j_7rwSDtbk2"
   },
   "source": [
    "### Without Hyperparameter Tuning"
   ]
  },
  {
   "cell_type": "code",
   "execution_count": null,
   "metadata": {
    "id": "vDGGQZsHo9l-"
   },
   "outputs": [],
   "source": [
    "# # TFIDF\n",
    "# tfidf_vector = TfidfVectorizer(tokenizer = spacy_tokenizer)\n",
    "\n",
    "# X_train_ = tfidf_vector.fit_transform(X_train)\n",
    "# X_test_ = tfidf_vector.transform(X_test)\n",
    "\n",
    "\n",
    "# clf = MultinomialNB()\n",
    "# clf.fit(X_train_, y_train)\n",
    "# predicted = clf.predict(X_test_)\n",
    "\n",
    "# clear_output()\n",
    "# print(\"Accuracy:\",round(metrics.accuracy_score(y_test, predicted), 2) \\\n",
    "# ,\"Precision:\",round(metrics.precision_score(y_test, predicted), 2) \\\n",
    "# ,\"Recall:\",round(metrics.recall_score(y_test, predicted), 2))"
   ]
  },
  {
   "cell_type": "code",
   "execution_count": null,
   "metadata": {
    "id": "LK5on3BYrFw_"
   },
   "outputs": [],
   "source": [
    "# # BOW\n",
    "# bow_vector = CountVectorizer(tokenizer = spacy_tokenizer)\n",
    "\n",
    "# X_train_ = bow_vector.fit_transform(X_train)\n",
    "# X_test_ = bow_vector.transform(X_test)\n",
    "\n",
    "\n",
    "# clf = MultinomialNB()\n",
    "# clf.fit(X_train_, y_train)\n",
    "# predicted = clf.predict(X_test_)\n",
    "\n",
    "# clear_output()\n",
    "# print(\"Accuracy:\",round(metrics.accuracy_score(y_test, predicted), 2) \\\n",
    "# ,\"Precision:\",round(metrics.precision_score(y_test, predicted), 2) \\\n",
    "# ,\"Recall:\",round(metrics.recall_score(y_test, predicted), 2))"
   ]
  },
  {
   "cell_type": "markdown",
   "metadata": {
    "id": "Zjlrys_A1Q89"
   },
   "source": [
    "# Spacy"
   ]
  },
  {
   "cell_type": "code",
   "execution_count": 8,
   "metadata": {
    "id": "NVOZLHqXsiRv"
   },
   "outputs": [],
   "source": [
    "import pandas as pd"
   ]
  },
  {
   "cell_type": "code",
   "execution_count": 9,
   "metadata": {
    "id": "1faSymKvslNJ"
   },
   "outputs": [],
   "source": [
    "train_data = pd.read_csv('Train.csv')"
   ]
  },
  {
   "cell_type": "code",
   "execution_count": 13,
   "metadata": {
    "id": "f_eybVmrsp9C"
   },
   "outputs": [],
   "source": [
    "# len(train_data)\n",
    "tr, val = train_data.iloc[0:8000], train_data.iloc[8000:]"
   ]
  },
  {
   "cell_type": "code",
   "execution_count": 35,
   "metadata": {
    "id": "QCVyYRY9tH5w"
   },
   "outputs": [],
   "source": [
    "import os\n",
    "if not os.path.exists('train/'):\n",
    "    os.makedirs('train/')\n",
    "if not os.path.exists('test/'):\n",
    "    os.makedirs('test/')\n",
    "tr.to_csv('train/data.csv', index=False)\n",
    "val.to_csv('test/data.csv', index=False)"
   ]
  },
  {
   "cell_type": "code",
   "execution_count": null,
   "metadata": {
    "id": "YihMNrfsr815"
   },
   "outputs": [],
   "source": [
    "# !pip install --upgrade pip"
   ]
  },
  {
   "cell_type": "code",
   "execution_count": null,
   "metadata": {
    "id": "txtZ7fW_r816"
   },
   "outputs": [],
   "source": [
    "# !pip install cytoolz\n",
    "# !python -m spacy download en_core_web_lg\n",
    "# !python -m spacy link en_core_web_lg en_vectors_web_lg\n",
    "\n",
    "import pandas\n",
    "import plac\n",
    "import random\n",
    "import pathlib\n",
    "import cytoolz\n",
    "import numpy\n",
    "from tensorflow.keras.models import Sequential, model_from_json\n",
    "from tensorflow.keras.layers import LSTM, Dense, Embedding, Bidirectional\n",
    "from tensorflow.keras.layers import TimeDistributed\n",
    "from tensorflow.keras.optimizers import Adam\n",
    "from spacy.compat import pickle\n",
    "import spacy\n",
    "from sklearn.metrics import roc_auc_score\n",
    "import tensorflow as tf\n",
    "import pandas as pd"
   ]
  },
  {
   "cell_type": "code",
   "execution_count": 31,
   "metadata": {
    "id": "L9_AzeK7r818"
   },
   "outputs": [],
   "source": [
    "class SentimentAnalyser(object):\n",
    "    @classmethod\n",
    "    def load(cls, path, nlp, max_length=100):\n",
    "        \n",
    "        with (path / \"config.json\").open() as file_:\n",
    "            model = model_from_json(file_.read())\n",
    "        \n",
    "        with (path / \"model\").open(\"rb\") as file_:\n",
    "            lstm_weights = pickle.load(file_)\n",
    "        \n",
    "        embeddings = get_embeddings(nlp.vocab)\n",
    "        model.set_weights([embeddings] + lstm_weights)\n",
    "        \n",
    "        return cls(model, max_length=max_length)\n",
    "\n",
    "    def __init__(self, model, max_length=100):\n",
    "        self._model = model\n",
    "        self.max_length = max_length\n",
    "\n",
    "    def __call__(self, doc):\n",
    "        \n",
    "        X = get_features([doc], self.max_length)\n",
    "        y = self._model.predict(X)\n",
    "        self.set_sentiment(doc, y)\n",
    "\n",
    "    def pipe(self, docs, batch_size=1000):\n",
    "        \n",
    "        for minibatch in cytoolz.partition_all(batch_size, docs):\n",
    "            minibatch = list(minibatch)\n",
    "            sentences = []\n",
    "            for doc in minibatch:\n",
    "                sentences.extend(doc.sents)\n",
    "            Xs = get_features(sentences, self.max_length)\n",
    "            ys = self._model.predict(Xs)\n",
    "            for sent, label in zip(sentences, ys):\n",
    "                sent.doc.sentiment += label - 0.5\n",
    "            for doc in minibatch:\n",
    "                yield doc\n",
    "\n",
    "    def set_sentiment(self, doc, y):\n",
    "        doc.sentiment = float(y[0])"
   ]
  },
  {
   "cell_type": "code",
   "execution_count": 32,
   "metadata": {
    "id": "DxzwIvoYr818"
   },
   "outputs": [],
   "source": [
    "def get_labelled_sentences(docs, doc_labels):\n",
    "    \n",
    "    labels = []\n",
    "    sentences = []\n",
    "    \n",
    "    for doc, y in zip(docs, doc_labels):\n",
    "        for sent in doc.sents:\n",
    "            sentences.append(sent)\n",
    "            labels.append(y)\n",
    "    return sentences, numpy.asarray(labels, dtype=\"int32\")\n",
    "\n",
    "\n",
    "def get_features(docs, max_length):\n",
    "    \n",
    "    docs = list(docs)\n",
    "    Xs = numpy.zeros((len(docs), max_length), dtype=\"int32\")\n",
    "    \n",
    "    for i, doc in enumerate(docs):\n",
    "        j = 0\n",
    "        for token in doc:\n",
    "            vector_id = token.vocab.vectors.find(key=token.orth)\n",
    "            if vector_id >= 0:\n",
    "                Xs[i, j] = vector_id\n",
    "            else:\n",
    "                Xs[i, j] = 0\n",
    "            j += 1\n",
    "            if j >= max_length:\n",
    "                break\n",
    "    return Xs\n",
    "\n",
    "\n",
    "def train( train_texts, train_labels, dev_texts, dev_labels, lstm_shape, lstm_settings, lstm_optimizer, batch_size=100, \n",
    "           nb_epoch=5, by_sentence=True):\n",
    "\n",
    "    print(\"Loading spaCy\")\n",
    "    nlp = spacy.load(\"en_vectors_web_lg\")\n",
    "    nlp.add_pipe(nlp.create_pipe(\"sentencizer\"))\n",
    "    \n",
    "    embeddings = get_embeddings(nlp.vocab)\n",
    "    model = compile_lstm(embeddings, lstm_shape, lstm_settings)\n",
    "\n",
    "    print(\"Parsing texts...\")\n",
    "    train_docs = list(nlp.pipe(train_texts))\n",
    "    dev_docs = list(nlp.pipe(dev_texts))\n",
    "    \n",
    "    if by_sentence:\n",
    "        train_docs, train_labels = get_labelled_sentences(train_docs, train_labels)\n",
    "        dev_docs, dev_labels = get_labelled_sentences(dev_docs, dev_labels)\n",
    "\n",
    "    train_X = get_features(train_docs, lstm_shape[\"max_length\"])\n",
    "    dev_X = get_features(dev_docs, lstm_shape[\"max_length\"])\n",
    "    \n",
    "    model.fit( train_X, train_labels,\n",
    "               validation_data=(dev_X, dev_labels),\n",
    "               epochs=nb_epoch,\n",
    "               batch_size=batch_size, callbacks=[terminate_at, checkpoint])\n",
    "    \n",
    "    return model"
   ]
  },
  {
   "cell_type": "code",
   "execution_count": 33,
   "metadata": {
    "id": "L6rr9Zpp1VKL"
   },
   "outputs": [],
   "source": [
    "def get_embeddings(vocab):\n",
    "    return vocab.vectors.data\n",
    "\n",
    "def evaluate(model_dir, texts, labels, max_length=100):\n",
    "    \n",
    "    nlp = spacy.load(\"en_vectors_web_lg\")\n",
    "    nlp.add_pipe(nlp.create_pipe(\"sentencizer\"))\n",
    "    nlp.add_pipe(SentimentAnalyser.load(model_dir, nlp, max_length=max_length))\n",
    "\n",
    "    correct = 0\n",
    "    i = 0\n",
    "    for doc in nlp.pipe(texts, batch_size=1000):\n",
    "        correct += bool(doc.sentiment >= 0.5) == bool(labels[i])\n",
    "        i += 1\n",
    "    \n",
    "    return float(correct) / i\n",
    "\n",
    "def read_data(data_dir, limit=0):\n",
    "    \n",
    "    dataset=pd.read_csv(data_dir / 'data.csv')\n",
    "    tweets = dataset['text']\n",
    "    sentiments = dataset['sentiment']\n",
    "    sentiments = tf.keras.utils.to_categorical(sentiments, num_classes=2, dtype='float32')\n",
    "    example=zip(tweets,sentiments)\n",
    "    example=list(example)\n",
    "    if limit >= 1:\n",
    "        example = example[:limit]\n",
    "    return zip(*example)"
   ]
  },
  {
   "cell_type": "code",
   "execution_count": 38,
   "metadata": {
    "colab": {
     "base_uri": "https://localhost:8080/"
    },
    "id": "_62tl8Ffr819",
    "outputId": "a6e5d0d4-7d27-4a51-a045-07a39bebe19a"
   },
   "outputs": [
    {
     "name": "stdout",
     "output_type": "stream",
     "text": [
      "Read data\n",
      "Loading spaCy\n",
      "WARNING:tensorflow:Layer lstm_2 will not use cuDNN kernel since it doesn't meet the cuDNN kernel criteria. It will use generic GPU kernel as fallback when running on GPU\n",
      "WARNING:tensorflow:Layer lstm_2 will not use cuDNN kernel since it doesn't meet the cuDNN kernel criteria. It will use generic GPU kernel as fallback when running on GPU\n",
      "WARNING:tensorflow:Layer lstm_2 will not use cuDNN kernel since it doesn't meet the cuDNN kernel criteria. It will use generic GPU kernel as fallback when running on GPU\n",
      "Parsing texts...\n",
      "Epoch 1/200\n",
      "25/25 [==============================] - ETA: 0s - loss: 0.4474 - accuracy: 0.7970 - auc_score: 0.7229\n",
      "Epoch 00001: val_auc_score improved from -inf to 0.85124, saving model to spacy_model.hdf5\n",
      "25/25 [==============================] - 41s 2s/step - loss: 0.4474 - accuracy: 0.7970 - auc_score: 0.7229 - val_loss: 0.3643 - val_accuracy: 0.8382 - val_auc_score: 0.8512\n",
      "Epoch 2/200\n",
      "25/25 [==============================] - ETA: 0s - loss: 0.3288 - accuracy: 0.8703 - auc_score: 0.8676\n",
      "Epoch 00002: val_auc_score improved from 0.85124 to 0.88640, saving model to spacy_model.hdf5\n",
      "25/25 [==============================] - 42s 2s/step - loss: 0.3288 - accuracy: 0.8703 - auc_score: 0.8676 - val_loss: 0.3221 - val_accuracy: 0.8718 - val_auc_score: 0.8864\n",
      "Epoch 3/200\n",
      "25/25 [==============================] - ETA: 0s - loss: 0.3001 - accuracy: 0.8815 - auc_score: 0.8889\n",
      "Epoch 00003: val_auc_score improved from 0.88640 to 0.89912, saving model to spacy_model.hdf5\n",
      "25/25 [==============================] - 41s 2s/step - loss: 0.3001 - accuracy: 0.8815 - auc_score: 0.8889 - val_loss: 0.2976 - val_accuracy: 0.8834 - val_auc_score: 0.8991\n",
      "Epoch 4/200\n",
      "25/25 [==============================] - ETA: 0s - loss: 0.2872 - accuracy: 0.8893 - auc_score: 0.8996\n",
      "Epoch 00004: val_auc_score improved from 0.89912 to 0.90674, saving model to spacy_model.hdf5\n",
      "25/25 [==============================] - 42s 2s/step - loss: 0.2872 - accuracy: 0.8893 - auc_score: 0.8996 - val_loss: 0.2842 - val_accuracy: 0.8851 - val_auc_score: 0.9067\n",
      "Epoch 5/200\n",
      "25/25 [==============================] - ETA: 0s - loss: 0.2790 - accuracy: 0.8913 - auc_score: 0.9050\n",
      "Epoch 00005: val_auc_score improved from 0.90674 to 0.90976, saving model to spacy_model.hdf5\n",
      "25/25 [==============================] - 42s 2s/step - loss: 0.2790 - accuracy: 0.8913 - auc_score: 0.9050 - val_loss: 0.2778 - val_accuracy: 0.8916 - val_auc_score: 0.9098\n",
      "Epoch 6/200\n",
      "25/25 [==============================] - ETA: 0s - loss: 0.2745 - accuracy: 0.8907 - auc_score: 0.9100\n",
      "Epoch 00006: val_auc_score improved from 0.90976 to 0.91285, saving model to spacy_model.hdf5\n",
      "25/25 [==============================] - 43s 2s/step - loss: 0.2745 - accuracy: 0.8907 - auc_score: 0.9100 - val_loss: 0.2735 - val_accuracy: 0.8920 - val_auc_score: 0.9129\n"
     ]
    }
   ],
   "source": [
    "from tensorflow.keras.callbacks import ModelCheckpoint\n",
    "def auc_score(y_true, y_pred):\n",
    "         return tf.py_function(roc_auc_score,(y_true,y_pred),tf.double)\n",
    "    \n",
    "checkpoint = ModelCheckpoint(filepath=\"spacy_model.hdf5\", monitor='val_auc_score', \\\n",
    "                             verbose=1, save_best_only=True, mode='max')\n",
    "\n",
    "val_acc_list=[]\n",
    "val_auc_list=[]\n",
    "class terminate_at(tf.keras.callbacks.Callback):    \n",
    "    def on_epoch_end(self, epoch, logs={}):\n",
    "        auc_ = logs['val_auc_score']\n",
    "        val_auc_list.append(auc_)\n",
    "        val_acc_list.append(logs['val_accuracy'])\n",
    "        if auc_>=0.91:\n",
    "            self.model.stop_training = True\n",
    "terminate_at = terminate_at()\n",
    "\n",
    "def compile_lstm(embeddings, shape, settings): \n",
    "    \n",
    "    model = Sequential()\n",
    "    \n",
    "    model.add(Embedding( embeddings.shape[0], embeddings.shape[1], input_length=shape[\"max_length\"],\n",
    "            trainable=False, weights=[embeddings], mask_zero=True))\n",
    "    \n",
    "    model.add(TimeDistributed(Dense(shape[\"nr_hidden\"], use_bias=False)))\n",
    "    \n",
    "    model.add(Bidirectional(LSTM(128, recurrent_dropout=settings[\"dropout\"], dropout=settings[\"dropout\"])))\n",
    "    \n",
    "    model.add(Dense(50, activation=tf.nn.relu))\n",
    "    model.add(Dense(10, activation=tf.nn.relu))\n",
    "    \n",
    "    model.add(Dense(2, activation=\"softmax\"))\n",
    "    \n",
    "    model.compile(optimizer=Adam(lr=settings[\"lr\"]), loss=\"binary_crossentropy\", metrics=['accuracy', auc_score])\n",
    "    \n",
    "    return model\n",
    "\n",
    "def main(model_dir='model_lstm', train_dir=pathlib.Path('train'), dev_dir=pathlib.Path('test'), is_runtime=False,\n",
    "        nr_hidden=64, max_length=170, dropout=0.5, learn_rate=0.001, nb_epoch=200, batch_size=500, nr_examples=-1):\n",
    "\n",
    "    model_dir = pathlib.Path(model_dir)\n",
    "    \n",
    "    if is_runtime:\n",
    "        dev_texts, dev_labels = read_data(dev_dir)\n",
    "        acc = evaluate(model_dir, dev_texts, dev_labels, max_length=max_length)\n",
    "        print(acc)\n",
    "    else:\n",
    "        print(\"Read data\")\n",
    "        train_texts, train_labels = read_data(train_dir, limit=nr_examples)\n",
    "        dev_texts, dev_labels = read_data(dev_dir, limit=nr_examples)\n",
    "        \n",
    "        train_labels = numpy.asarray(train_labels, dtype=\"int32\")\n",
    "        dev_labels = numpy.asarray(dev_labels, dtype=\"int32\")\n",
    "        \n",
    "        lstm = train(train_texts, train_labels, dev_texts, dev_labels,\n",
    "                    {\"nr_hidden\": nr_hidden, \"max_length\": max_length, \"nr_class\": 2},\n",
    "                    {\"dropout\": dropout, \"lr\": learn_rate},\n",
    "                    {},\n",
    "                    nb_epoch=nb_epoch,\n",
    "                    batch_size=batch_size,\n",
    "                    )\n",
    "        \n",
    "        weights = lstm.get_weights()\n",
    "        if not os.path.exists('model_lstm/'):\n",
    "            os.makedirs('model_lstm/')\n",
    "        if model_dir is not None:\n",
    "            with (model_dir / \"model\").open(\"wb\") as file_:\n",
    "                pickle.dump(weights[1:], file_)\n",
    "            with (model_dir / \"config.json\").open(\"w\") as file_:\n",
    "                file_.write(lstm.to_json())\n",
    "\n",
    "main()"
   ]
  },
  {
   "cell_type": "code",
   "execution_count": 1,
   "metadata": {
    "colab": {
     "base_uri": "https://localhost:8080/",
     "height": 278
    },
    "id": "ZQX6B2gDr81-",
    "outputId": "791bc1d4-c796-445b-e660-ddaf88a0af61"
   },
   "outputs": [],
   "source": [
    "%matplotlib inline\n",
    "from matplotlib import pyplot as plt\n",
    "plt.plot(val_auc_list)\n",
    "plt.plot(val_acc_list)\n",
    "plt.legend(['AUC Scores', 'Accuracies'])\n",
    "plt.xlabel('Epochs')\n",
    "plt.show()"
   ]
  },
  {
   "attachments": {
    "Screenshot%20-%2017-12-2020%20,%2014_54_47.png": {
     "image/png": "[encoded data removed]"
    }
   },
   "cell_type": "markdown",
   "metadata": {},
   "source": [
    "![Screenshot%20-%2017-12-2020%20,%2014_54_47.png](attachment:Screenshot%20-%2017-12-2020%20,%2014_54_47.png)"
   ]
  },
  {
   "cell_type": "code",
   "execution_count": 50,
   "metadata": {
    "id": "_7HoSNPs8H9X"
   },
   "outputs": [],
   "source": [
    "def read_data(data_dir, limit=0):\n",
    "    \n",
    "    dataset=pd.read_csv(data_dir +'/data.csv')\n",
    "    tweets = dataset['text']\n",
    "    sentiments = dataset['sentiment']\n",
    "    sentiments = tf.keras.utils.to_categorical(sentiments, num_classes=2, dtype='float32')\n",
    "    example=zip(tweets,sentiments)\n",
    "    example=list(example)\n",
    "    if limit >= 1:\n",
    "        example = example[:limit]\n",
    "    return zip(*example)\n",
    "\n",
    "test_texts, test_labels = read_data('Test', limit=-1)\n",
    "test_labels = numpy.asarray(test_labels, dtype=\"int32\")"
   ]
  },
  {
   "cell_type": "code",
   "execution_count": 51,
   "metadata": {
    "id": "UfbS8mg1990d"
   },
   "outputs": [],
   "source": [
    "nlp = spacy.load(\"en_vectors_web_lg\")\n",
    "nlp.add_pipe(nlp.create_pipe(\"sentencizer\"))\n",
    "\n",
    "embeddings = get_embeddings(nlp.vocab)\n",
    "test_docs = list(nlp.pipe(test_texts))\n",
    "\n",
    "test_docs, test_labels = get_labelled_sentences(test_docs, test_labels)\n",
    "\n",
    "test_X = get_features(test_docs, 170)"
   ]
  },
  {
   "cell_type": "code",
   "execution_count": null,
   "metadata": {
    "id": "9A3mp1S__uHI"
   },
   "outputs": [],
   "source": [
    "test_data = pd.read_csv('Test/data.csv')\n",
    "\n",
    "spacymodel = tf.keras.models.load_model(\"spacy_model.hdf5\", compile=False)\n",
    "spacymodel.compile(loss='binary_crossentropy', optimizer=Adam(), metrics=['accuracy', auc_score])\n",
    "\n",
    "predictions = spacymodel.predict(test_X)"
   ]
  },
  {
   "cell_type": "code",
   "execution_count": 60,
   "metadata": {
    "id": "R3IIrPE29EvI"
   },
   "outputs": [],
   "source": [
    "true = test_labels.argmax(axis=-1)"
   ]
  },
  {
   "cell_type": "code",
   "execution_count": 61,
   "metadata": {
    "id": "-oqby7Wk_6Wl"
   },
   "outputs": [],
   "source": [
    "pred = predictions.argmax(axis=-1) # 0 bad ,1 Good"
   ]
  },
  {
   "cell_type": "code",
   "execution_count": 62,
   "metadata": {
    "colab": {
     "base_uri": "https://localhost:8080/"
    },
    "id": "xu5Cq_2_wMzr",
    "outputId": "15d4315b-c2e4-4d02-947c-9f64091d66fc"
   },
   "outputs": [
    {
     "name": "stdout",
     "output_type": "stream",
     "text": [
      "Accuracy: 0.89 Precision: 0.75 Recall: 0.62\n"
     ]
    }
   ],
   "source": [
    "from sklearn import metrics\n",
    "\n",
    "\n",
    "print(\"Accuracy:\",round(metrics.accuracy_score(true, pred), 2) \\\n",
    ",\"Precision:\",round(metrics.precision_score(true, pred), 2) \\\n",
    ",\"Recall:\",round(metrics.recall_score(true, pred), 2))\n",
    "\n",
    "# Accuracy: 0.89 Precision: 0.75 Recall: 0.62"
   ]
  }
 ],
 "metadata": {
  "accelerator": "GPU",
  "colab": {
   "name": "Sentiment_Analysis_ML_Spacy.ipynb",
   "provenance": [],
   "toc_visible": true
  },
  "kernelspec": {
   "display_name": "Python 3",
   "language": "python",
   "name": "python3"
  },
  "language_info": {
   "codemirror_mode": {
    "name": "ipython",
    "version": 3
   },
   "file_extension": ".py",
   "mimetype": "text/x-python",
   "name": "python",
   "nbconvert_exporter": "python",
   "pygments_lexer": "ipython3",
   "version": "3.8.5"
  },
  "toc": {
   "base_numbering": 1,
   "nav_menu": {},
   "number_sections": true,
   "sideBar": true,
   "skip_h1_title": false,
   "title_cell": "Table of Contents",
   "title_sidebar": "Contents",
   "toc_cell": false,
   "toc_position": {
    "height": "calc(100% - 180px)",
    "left": "10px",
    "top": "150px",
    "width": "303.542px"
   },
   "toc_section_display": true,
   "toc_window_display": true
  }
 },
 "nbformat": 4,
 "nbformat_minor": 1
}
